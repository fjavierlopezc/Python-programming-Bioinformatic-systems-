{
 "cells": [
  {
   "cell_type": "code",
   "execution_count": 1,
   "id": "4ea7f364-7ebb-4d78-a27d-2f84e373b5aa",
   "metadata": {},
   "outputs": [],
   "source": [
    "#IMPORTAMOS LIBRERÍA PARA CONECTAR MYSQL-PYTHON\n",
    "import mysql.connector\n",
    "#IMPORTAMOS LIBRERÍA PARA INTERACTUAR CON SERVICIOS WEB Y CONSUMIR APIs\n",
    "import requests\n",
    "#IMPORTAMOS LIBRERÍA PARA ACCEDER A VARIABLES Y FUNCIONES ESPECÍFICAS DEL INTERPRETE DE PYTHON\n",
    "import sys"
   ]
  },
  {
   "cell_type": "code",
   "execution_count": 2,
   "id": "a7ad44b1-2d7d-406b-b236-6f5dd7a347d1",
   "metadata": {},
   "outputs": [],
   "source": [
    "#DEFINIMOS COLORES PARA LOS TEXTOS CON CODIGO ANSI ESCAPE EN FORMATO OCTAL Y DE COLORES EN PRIMER PLANO\n",
    "#https://gist.github.com/fnky/458719343aabd01cfb17a3a4f7296797\n",
    "class Colors:\n",
    "    BLACK = '\\033[90m'\n",
    "    WHITE= '\\033[97m'\n",
    "    BLUE = '\\033[94m'\n",
    "    GREEN = '\\033[92m'\n",
    "    CYAN = '\\033[36m'\n",
    "    RED = '\\033[91m'\n",
    "    YELLOW = '\\033[93m'\n",
    "    ENDC = '\\033[0m'"
   ]
  },
  {
   "cell_type": "code",
   "execution_count": 3,
   "id": "a9bc30db-4daf-4afc-91c2-115fd4b2a5b5",
   "metadata": {},
   "outputs": [],
   "source": [
    "#FUNCIÓN PARA MOSTRAR AVISOS AL USUARIO Y CONTROLAR ERRORES DE VALORES DE ENTRADA O  ERORES DE CARGA DE DATOS \n",
    "def warning(message):\n",
    "    print(f\"{Colors.RED}* ATENCIÓN *{Colors.ENDC} {message}\")"
   ]
  },
  {
   "cell_type": "code",
   "execution_count": 4,
   "id": "e9abc5e1-664f-47f5-8be5-8f1dd308b3f1",
   "metadata": {},
   "outputs": [],
   "source": [
    "#CREAMOS Y DEVOLVEMOS UNA FUNCIÓN DE CONEXIÓN A UNA BASE DE DATOS CON PARÁMETROS ESPECÍFICOS EN MYSQL\n",
    "def create_connection(host, user, password, database):\n",
    "    mydb = mysql.connector.connect(\n",
    "        host=host,\n",
    "        user=user,#Usuario\n",
    "        password=password,#contraseña\n",
    "        database=database #esquema\n",
    "    )\n",
    "    return mydb"
   ]
  },
  {
   "cell_type": "code",
   "execution_count": 5,
   "id": "fab18eeb-1768-465a-a3be-fa61339d9032",
   "metadata": {},
   "outputs": [
    {
     "name": "stdout",
     "output_type": "stream",
     "text": [
      "<mysql.connector.connection_cext.CMySQLConnection object at 0x7f0c2042f7f0>\n"
     ]
    }
   ],
   "source": [
    "#GUARDAMOS EN LA VARIABLE CONEXION LA FUNCIÓN PREVIAMENTE CREADA PARA MANEJARLA MÁS FÁCILMENTE\n",
    "conexion = create_connection(\"dayhoff.inf.um.es\", \"alubio08\", \"alubio08PW-\", \"alubio08\")\n",
    "print(conexion)"
   ]
  },
  {
   "cell_type": "code",
   "execution_count": 6,
   "id": "cb0288bd-8313-4762-8c5a-a1b72809aaf6",
   "metadata": {},
   "outputs": [],
   "source": [
    "#LO PONGO COMO COMENTARIO PARA PODER EJECUTAR TODAS LAS CELDAS Y QUE FUNCIONE LA FUNCIÓN MAIN\n",
    "#conexion.close()"
   ]
  },
  {
   "cell_type": "code",
   "execution_count": 7,
   "id": "a80b70fa-5023-4b42-b6fa-6e49f78e28a0",
   "metadata": {},
   "outputs": [],
   "source": [
    "#CONSULTA 1 -> Resultado agrupado de los pacientes por las propiedades sexo y rango de edad.\n",
    "def buscar_por_muestra_sexo_edad():\n",
    "    #Abrimos cursor\n",
    "    mycursor = conexion.cursor()\n",
    "    #Vamos a seleccionar las filas donde tengamos el nombre de propiedad mujer u hombre (como sexo) y lo mismo para\n",
    "    #los distintos rangos de edad, además de contar el número de muestras. Esto vamos tener que hacer join con las tablas\n",
    "    #correspondientes agrupando finalmente por cada nombre de sexo y cada rango de edad junto su numero de muestras.\n",
    "    #DESTACAMOS -> solo va a moestrar resultados de aquellos grupos para los que tengamos especificado tanto el tipo de sexo\n",
    "    #como su rango de edad, si alguno de esos tipos no esta especificado no lo mostrará.\n",
    "    mycursor.execute(\"\"\"SELECT p_sexo.nombre AS sexo, p_rango_edad.nombre AS rango_de_edad, COUNT(DISTINCT m.codigo) AS n_muestras\n",
    "                        FROM b3b2_muestra m INNER JOIN b3b2_muestra_propiedad mp_sexo ON m.codigo = mp_sexo.muestra\n",
    "                        INNER JOIN b3b2_propiedad p_sexo ON mp_sexo.propiedad = p_sexo.id\n",
    "                        INNER JOIN b3b2_muestra_propiedad mp_rango_edad ON m.codigo = mp_rango_edad.muestra\n",
    "                        INNER JOIN b3b2_propiedad p_rango_edad ON mp_rango_edad.propiedad = p_rango_edad.id\n",
    "                        WHERE p_sexo.tipo = 'sexo' AND p_rango_edad.tipo = 'rango de edad'\n",
    "                        GROUP BY p_sexo.nombre, p_rango_edad.nombre\n",
    "                        ORDER BY p_sexo.nombre, p_rango_edad.nombre;\"\"\")\n",
    "    myresult = mycursor.fetchall() #Le indicamos que nos cargue todos los valores recuperados\n",
    "    #Verificamos que en la consulta haya algún resultado\n",
    "    if not myresult:\n",
    "        print(\"No hay resultados para la consulta.\")\n",
    "    #Organizamos los resultados guardados en la variable myresult en una tabla\n",
    "    else:\n",
    "        print(f\"{Colors.GREEN}Resultado agrupado de los pacientes por las propiedades sexo y rango de edad:{Colors.ENDC}\")\n",
    "        print(\"{:<10}  {:<10}  {:<15}\".format(\"Sexo\", \"Rango Edad\", \"N Muestras\"))\n",
    "        print(\"-\" * 40)\n",
    "        for resultado in myresult:\n",
    "            print(\"{:<10}  {:<10}  {:<15}\".format(resultado[0], resultado[1], resultado[2]))\n",
    "    #Cada vez que hemos terminado una operación con la base de datos cerramos el cursor\n",
    "    mycursor.close()"
   ]
  },
  {
   "cell_type": "code",
   "execution_count": 8,
   "id": "2ba9e2f8-76fd-494e-a48e-5d7d797975ed",
   "metadata": {},
   "outputs": [],
   "source": [
    "#CONSULTA 2 -> Número de genes que participan en la rutas que contenta la palabra 'platelet'\n",
    "def buscar_por_genes_rutas_platelet():\n",
    "    #Abrimos cursor \n",
    "    mycursor = conexion.cursor()\n",
    "    #Vamos a contar todos los genes distintos de la tabla donde tenemos genes y pathways\n",
    "    #donde coincida que en la descripcion del pathway (join a tabla pathway) donde tiene registrada \n",
    "    #su descripcion aparezca la palabra \"platelet\"\n",
    "    mycursor.execute(\"\"\"SELECT COUNT(DISTINCT pg.gen) AS numero_genes\n",
    "                        FROM b3b2_gen_pathway pg\n",
    "                        INNER JOIN b3b2_pathway p ON pg.pathway = p.codigo\n",
    "                        WHERE p.descripcion LIKE '%platelet%';\"\"\")\n",
    "    myresult = mycursor.fetchone() #Le indicamos que nos cargue el único valor recuperado\n",
    "    #Verificamos que hay resultados en la consulta \n",
    "    if not myresult:\n",
    "        print(\"No hay genes que tengan la palabra platelet incluida en la descripcion de su ruta.\")\n",
    "    else:\n",
    "        #Mostramos el primer y único resultado de la variable myresult\n",
    "        print(f\"{Colors.CYAN}Número de genes que participan en la rutas que contenta la palabra 'platelet' --> {Colors.ENDC} {myresult[0]}\")\n",
    "    #Cerramos cursor\n",
    "    mycursor.close()"
   ]
  },
  {
   "cell_type": "code",
   "execution_count": 9,
   "id": "9a102a39-4c85-40c3-b5a1-a3fd79250a72",
   "metadata": {},
   "outputs": [],
   "source": [
    "#CONSULTA 3 -> Muestras de las que no tenemos resultados de expresión\n",
    "def buscar_muestras_noexpresion():\n",
    "    #Abrimos cursor\n",
    "    mycursor = conexion.cursor()\n",
    "    #Seleccionamos todos los códigos de la tabla muestra que no estan presentes en la tabla de expresion\n",
    "    mycursor.execute(\"\"\"SELECT m.codigo FROM b3b2_muestra m\n",
    "                        WHERE m.codigo NOT IN (SELECT DISTINCT muestra FROM b3b2_expresion);\"\"\")\n",
    "    myresult = mycursor.fetchall() #Le indicamos que nos cargue todos los valores recuperados\n",
    "    #Verificamos que hay resultados en la consulta \n",
    "    if not myresult:\n",
    "        print(\"No hay muestras sin resultados de expresión.\")\n",
    "    else:\n",
    "        #Mostrados cada código de la muestra para la que no tenemos resultados de expresión\n",
    "        print(f\"{Colors.YELLOW}Muestras de las que no tenemos resultados de expresión:{Colors.ENDC}\")\n",
    "        for muestra in myresult:\n",
    "            print(muestra[0])\n",
    "    #Cerramos cursor\n",
    "    mycursor.close()"
   ]
  },
  {
   "cell_type": "code",
   "execution_count": 10,
   "id": "6ef096e9-73f1-417d-898e-f0cbf51e51ab",
   "metadata": {},
   "outputs": [],
   "source": [
    "#CONSULTA 4 -> Media de expresión de los genes secuenciados. Devolverá el gene_symbol y la media de expresión global.\n",
    "def buscar_symbol_media_expresion():\n",
    "    #Abrimos cursor \n",
    "    mycursor = conexion.cursor()\n",
    "    #Seleccionamos columna gene_symbol de tabla de genes donde tendremos columna con el id de ensembl\n",
    "    #estos ensembl los tendremos en la tabla expresion y vamos a seleccionar la media de las expresiones (average)\n",
    "    #join entre ensembl de ambas tablas y agrupamos por gene_symbol (solo presente en la tabla gen).\n",
    "    mycursor.execute(\"\"\"SELECT g.gene_symbol, AVG(e.expresion) AS media_expresion\n",
    "                        FROM b3b2_gen g\n",
    "                        INNER JOIN b3b2_expresion e ON g.gene_ensembl = e.gen\n",
    "                        GROUP BY g.gene_symbol;\"\"\")\n",
    "    myresult = mycursor.fetchall()  #Le indicamos que nos cargue todos los valores recuperados\n",
    "    #Verificamos que hay resultados en la consulta\n",
    "    if not myresult:\n",
    "        print(\"No hay resultados para la consulta.\")\n",
    "    else:\n",
    "        #Mostramos cada symbol junto su media de expresión a modo de tabla\n",
    "        print(f\"{Colors.GREEN}Resumen genes y su media de expresión:{Colors.ENDC}\")\n",
    "        print(\"{:<20}  {:<15}\".format(\"Gen Symbol\", \"Media Expresión\"))\n",
    "        print(\"-\" * 40)\n",
    "        for gen in myresult:\n",
    "            print(\"{:<20}  {:<15.2f}\".format(gen[0], gen[1]))\n",
    "    #Cerramos cursor\n",
    "    mycursor.close()"
   ]
  },
  {
   "cell_type": "code",
   "execution_count": 11,
   "id": "5b778c50-f5b5-464e-a2ce-dce09e5d4aa7",
   "metadata": {},
   "outputs": [],
   "source": [
    "#CONSULTA 5 -> Número de pathways de los genes que tienen media de expresión mayor de 25\n",
    "def buscar_pathways_genes_media_expresion():\n",
    "    #Abrimos cursor \n",
    "    mycursor = conexion.cursor()\n",
    "    #Consulta anidada donde vamos a seleccionar el codigo de pathway en el que los genes asociados\n",
    "    #a esas rutas tengan una media de expresión superior a 25 (seleccionando rutas distintas solamente),\n",
    "    #ya que algunos genes están en mas de una ruta.\n",
    "    mycursor.execute(\"\"\"SELECT COUNT(DISTINCT gp.pathway) AS numero_pathways\n",
    "                        FROM b3b2_gen g\n",
    "                        INNER JOIN b3b2_gen_pathway gp ON g.gene_ensembl = gp.gen\n",
    "                        INNER JOIN b3b2_pathway p ON gp.pathway = p.codigo\n",
    "                        WHERE g.gene_ensembl IN (SELECT e.gen FROM b3b2_expresion e\n",
    "                        GROUP BY e.gen HAVING AVG(e.expresion) > 25);\"\"\")\n",
    "    myresult = mycursor.fetchone() #Le indicamos que nos cargue el único valor consultado\n",
    "    #Verificamos que hay resultados en la consulta \n",
    "    if not myresult:\n",
    "        print(\"No hay muestras sin resultados de expresión.\")\n",
    "    else:\n",
    "        #Mostramos el único resultado obtenido  en la variable myresult\n",
    "        print(f\"{Colors.CYAN}Número de pathways de los genes que tienen media de expresión mayor de 25 --> {Colors.ENDC} {myresult[0]}\") \n",
    "    #Cerramos cursor\n",
    "    mycursor.close()"
   ]
  },
  {
   "cell_type": "code",
   "execution_count": 12,
   "id": "d2266a59-14be-48f6-bff7-15351bc3438d",
   "metadata": {},
   "outputs": [],
   "source": [
    "#CONSULTA 6 -> Muestras de las que no tenemos alguna propiedad (o sexo o rango de edad)\n",
    "def buscar_muestras_no_propiedad():\n",
    "    #Abrimos cursor\n",
    "    mycursor = conexion.cursor()\n",
    "    #la consulta busca códigos de muestra distintos que no tienen propiedades asociadas \n",
    "    #de tipo 'sexo' o 'rango de edad', utilizando LEFT JOIN para incluir todas las muestras, \n",
    "    #incluso aquellas que no tienen coincidencias en las tablas de propiedades.\n",
    "    mycursor.execute(\"\"\"SELECT DISTINCT m.codigo FROM b3b2_muestra m\n",
    "                        LEFT JOIN b3b2_muestra_propiedad mp_sexo ON m.codigo = mp_sexo.muestra\n",
    "                        AND mp_sexo.propiedad IN (SELECT id FROM b3b2_propiedad WHERE tipo = 'sexo')\n",
    "                        LEFT JOIN b3b2_muestra_propiedad mp_rango_edad ON m.codigo = mp_rango_edad.muestra\n",
    "                        AND mp_rango_edad.propiedad IN (SELECT id FROM b3b2_propiedad WHERE tipo = 'rango de edad')\n",
    "                        WHERE mp_sexo.muestra IS NULL OR mp_rango_edad.muestra IS NULL;\"\"\")\n",
    "    myresult = mycursor.fetchall() #Le indicamos que nos cargue todos los valores recuperados\n",
    "    #Verificamos que hay resultados en la consulta \n",
    "    if not myresult:\n",
    "        print(\"No hay muestras sin resultados de expresión.\")\n",
    "    else:\n",
    "        #Mostramos el código de muestra para la que no tenemos alguna propiedad en una lista\n",
    "        muestra_list = [muestra[0] for muestra in myresult]\n",
    "        print(f\"{Colors.YELLOW}Muestras de las que no tenemos alguna propiedad (o sexo o rango de edad): {Colors.ENDC} {muestra_list}\")\n",
    "    #Cerramos cursor\n",
    "    mycursor.close()"
   ]
  },
  {
   "cell_type": "code",
   "execution_count": 13,
   "id": "3500e78b-e08c-4b39-ab4c-199fc0a81ea6",
   "metadata": {},
   "outputs": [],
   "source": [
    "#CONSULTA 7 -> Número de muestras por run\n",
    "def buscar_muestras_por_run():\n",
    "    #Abrimos cursor\n",
    "    mycursor = conexion.cursor()\n",
    "    #Vamos a contar el número de muestras y las vamos a agrupar por run, seleccionando el nombre\n",
    "    #de cada run para mostrar el número de muestras que posee asociado cada uno\n",
    "    mycursor.execute(\"\"\"SELECT r.nombre AS run, COUNT(mr.muestra) AS numero_muestras\n",
    "                        FROM beb2_run r\n",
    "                        INNER JOIN beb2_muestra_run mr ON r.nombre = mr.run\n",
    "                        GROUP BY r.nombre;\"\"\")\n",
    "    myresult = mycursor.fetchall()  #Le indicamos que nos cargue todos los valores recuperados\n",
    "    #Verificamos que hay resultados en la consulta\n",
    "    if not myresult:\n",
    "        print(\"No hay resultados para la consulta.\")\n",
    "    else:\n",
    "        #Mostramos el número de muestras para cada run en una tabla \n",
    "        print(f\"{Colors.GREEN}Resumen run y número de muestras:{Colors.ENDC}\")\n",
    "        print(\"{:<20}  {:<15}\".format(\"Run\", \"N Muestras\"))\n",
    "        print(\"-\" * 40)\n",
    "        for run in myresult:\n",
    "            print(\"{:<20}  {:<15.2f}\".format(run[0], run[1]))\n",
    "    #Cerramos cursor\n",
    "    mycursor.close()"
   ]
  },
  {
   "cell_type": "code",
   "execution_count": 14,
   "id": "8ce5b1b7-9240-46fa-8ae0-e7086164d150",
   "metadata": {},
   "outputs": [],
   "source": [
    "#CONSULTA 8 -> Consulta que devuelva los genes cuyo log2foldchange sea mayor de 1 en valor absoluto entre muestras con sexo hombre y muestras con sexo mujer\n",
    "def buscar_log2foldchange():\n",
    "    #Abrimos cursor\n",
    "    mycursor = conexion.cursor()\n",
    "    #Esta consulta anidada realiza cálculos de media de expresión para hombres y mujeres \n",
    "    #por separado, y luego calcula el logaritmo en base 2 del cambio de expresión entre ambos\n",
    "    #sexos para cada gen. La consulta principal selecciona genes cuyo valor absoluto del logaritmo\n",
    "    #en base 2 del cambio de expresión es mayor que 1 en valor absoluto.\n",
    "    mycursor.execute(\"\"\"SELECT g.gene_symbol, LOG2(media_expresion_hombre / media_expresion_mujer) AS log2foldchange\n",
    "                        FROM b3b2_gen g\n",
    "                        INNER JOIN (\n",
    "                                    SELECT e.gen, AVG(e.expresion) AS media_expresion_hombre\n",
    "                                    FROM b3b2_expresion e\n",
    "                                    INNER JOIN b3b2_muestra_propiedad mp ON e.muestra = mp.muestra\n",
    "                                    INNER JOIN b3b2_propiedad p ON mp.propiedad = p.id\n",
    "                                    WHERE p.tipo = 'sexo' AND p.nombre = 'hombre'\n",
    "                                    GROUP BY e.gen\n",
    "                                   ) AS media_expresion_h ON g.gene_ensembl = media_expresion_h.gen\n",
    "                        INNER JOIN (\n",
    "                                    SELECT e.gen, AVG(e.expresion) AS media_expresion_mujer\n",
    "                                    FROM b3b2_expresion e\n",
    "                                    INNER JOIN b3b2_muestra_propiedad mp ON e.muestra = mp.muestra\n",
    "                                    INNER JOIN b3b2_propiedad p ON mp.propiedad = p.id\n",
    "                                    WHERE p.tipo = 'sexo' AND p.nombre = 'mujer'\n",
    "                                    GROUP BY e.gen\n",
    "                                   ) AS media_expresion_m ON g.gene_ensembl = media_expresion_m.gen\n",
    "                        HAVING ABS(log2foldchange) > 1;\"\"\")\n",
    "    myresult = mycursor.fetchall()  #Le indicamos que nos cargue todos los valores recuperados\n",
    "    #Verificamos que hay resultados en la consulta\n",
    "    if not myresult:\n",
    "        print(\"No hay resultados para la consulta.\")\n",
    "    else:\n",
    "        #Mostramos el symbol de los genes y su log2foldchange en una tabla \n",
    "        print(f\"{Colors.GREEN}Resumen genes y su media de expresión:{Colors.ENDC}\")\n",
    "        print(\"{:<20}  {:<15}\".format(\"Gen Symbol\", \"Log2FoldChange\"))\n",
    "        print(\"-\" * 40)\n",
    "        for gen in myresult:\n",
    "            print(\"{:<20}  {:<15.2f}\".format(gen[0], gen[1]))\n",
    "    #Cerramos cursor\n",
    "    mycursor.close()"
   ]
  },
  {
   "cell_type": "code",
   "execution_count": 15,
   "id": "d3c031d2-b3a3-4981-bb0e-f28fbea0ea16",
   "metadata": {},
   "outputs": [
    {
     "name": "stdout",
     "output_type": "stream",
     "text": [
      "\u001b[94m\n",
      "CONSULTAS BASE DE DATOS RNA-SEQ\u001b[0m\n",
      "\u001b[90m---------------------------------------------------------\u001b[0m\n",
      "CONSULTA 1. Agrupar los pacientes por las propiedades sexo y rango de edad\n",
      "CONSULTA 2. Numerar de genes que participan en la rutas que contenta la palabra 'platelet'\n",
      "CONSULTA 3. Listar muestras de las que no tenemos resultados de expresión\n",
      "CONSULTA 4. Listar media de expresión de los genes secuenciados\n",
      "CONSULTA 5. Numerar pathways de los genes que tienen media de expresión mayor de 25\n",
      "CONSULTA 6. Listar muestras de las que no tenemos alguna propiedad (o sexo o rango de edad)\n",
      "CONSULTA 7. Mostrar el número de muestras por run\n",
      "CONSULTA 8. Mostrar genes cuyo logfoldchange (M sexo H/M sexo M) sea mayor de 1 en valor absoluto\n",
      "Salir del programa (Pulse opcion 9)\n"
     ]
    },
    {
     "name": "stdin",
     "output_type": "stream",
     "text": [
      "\n",
      "Indique la opción que desea ejecutar (1, 2, 3, 4, 5, 6, 7, 8, 9):  1\n"
     ]
    },
    {
     "name": "stdout",
     "output_type": "stream",
     "text": [
      "\u001b[92mResultado agrupado de los pacientes por las propiedades sexo y rango de edad:\u001b[0m\n",
      "Sexo        Rango Edad  N Muestras     \n",
      "----------------------------------------\n",
      "Hombre      >70         6              \n",
      "Hombre      18-45       7              \n",
      "Mujer       <18         7              \n",
      "Mujer       45-70       7              \n",
      "\u001b[94m\n",
      "CONSULTAS BASE DE DATOS RNA-SEQ\u001b[0m\n",
      "\u001b[90m---------------------------------------------------------\u001b[0m\n",
      "CONSULTA 1. Agrupar los pacientes por las propiedades sexo y rango de edad\n",
      "CONSULTA 2. Numerar de genes que participan en la rutas que contenta la palabra 'platelet'\n",
      "CONSULTA 3. Listar muestras de las que no tenemos resultados de expresión\n",
      "CONSULTA 4. Listar media de expresión de los genes secuenciados\n",
      "CONSULTA 5. Numerar pathways de los genes que tienen media de expresión mayor de 25\n",
      "CONSULTA 6. Listar muestras de las que no tenemos alguna propiedad (o sexo o rango de edad)\n",
      "CONSULTA 7. Mostrar el número de muestras por run\n",
      "CONSULTA 8. Mostrar genes cuyo logfoldchange (M sexo H/M sexo M) sea mayor de 1 en valor absoluto\n",
      "Salir del programa (Pulse opcion 9)\n"
     ]
    },
    {
     "name": "stdin",
     "output_type": "stream",
     "text": [
      "\n",
      "Indique la opción que desea ejecutar (1, 2, 3, 4, 5, 6, 7, 8, 9):  2\n"
     ]
    },
    {
     "name": "stdout",
     "output_type": "stream",
     "text": [
      "\u001b[36mNúmero de genes que participan en la rutas que contenta la palabra 'platelet' --> \u001b[0m 23\n",
      "\u001b[94m\n",
      "CONSULTAS BASE DE DATOS RNA-SEQ\u001b[0m\n",
      "\u001b[90m---------------------------------------------------------\u001b[0m\n",
      "CONSULTA 1. Agrupar los pacientes por las propiedades sexo y rango de edad\n",
      "CONSULTA 2. Numerar de genes que participan en la rutas que contenta la palabra 'platelet'\n",
      "CONSULTA 3. Listar muestras de las que no tenemos resultados de expresión\n",
      "CONSULTA 4. Listar media de expresión de los genes secuenciados\n",
      "CONSULTA 5. Numerar pathways de los genes que tienen media de expresión mayor de 25\n",
      "CONSULTA 6. Listar muestras de las que no tenemos alguna propiedad (o sexo o rango de edad)\n",
      "CONSULTA 7. Mostrar el número de muestras por run\n",
      "CONSULTA 8. Mostrar genes cuyo logfoldchange (M sexo H/M sexo M) sea mayor de 1 en valor absoluto\n",
      "Salir del programa (Pulse opcion 9)\n"
     ]
    },
    {
     "name": "stdin",
     "output_type": "stream",
     "text": [
      "\n",
      "Indique la opción que desea ejecutar (1, 2, 3, 4, 5, 6, 7, 8, 9):  3\n"
     ]
    },
    {
     "name": "stdout",
     "output_type": "stream",
     "text": [
      "\u001b[93mMuestras de las que no tenemos resultados de expresión:\u001b[0m\n",
      "S29\n",
      "S3\n",
      "S30\n",
      "S4\n",
      "S5\n",
      "S6\n",
      "S7\n",
      "S8\n",
      "S9\n",
      "\u001b[94m\n",
      "CONSULTAS BASE DE DATOS RNA-SEQ\u001b[0m\n",
      "\u001b[90m---------------------------------------------------------\u001b[0m\n",
      "CONSULTA 1. Agrupar los pacientes por las propiedades sexo y rango de edad\n",
      "CONSULTA 2. Numerar de genes que participan en la rutas que contenta la palabra 'platelet'\n",
      "CONSULTA 3. Listar muestras de las que no tenemos resultados de expresión\n",
      "CONSULTA 4. Listar media de expresión de los genes secuenciados\n",
      "CONSULTA 5. Numerar pathways de los genes que tienen media de expresión mayor de 25\n",
      "CONSULTA 6. Listar muestras de las que no tenemos alguna propiedad (o sexo o rango de edad)\n",
      "CONSULTA 7. Mostrar el número de muestras por run\n",
      "CONSULTA 8. Mostrar genes cuyo logfoldchange (M sexo H/M sexo M) sea mayor de 1 en valor absoluto\n",
      "Salir del programa (Pulse opcion 9)\n"
     ]
    },
    {
     "name": "stdin",
     "output_type": "stream",
     "text": [
      "\n",
      "Indique la opción que desea ejecutar (1, 2, 3, 4, 5, 6, 7, 8, 9):  4\n"
     ]
    },
    {
     "name": "stdout",
     "output_type": "stream",
     "text": [
      "\u001b[92mResumen genes y su media de expresión:\u001b[0m\n",
      "Gen Symbol            Media Expresión\n",
      "----------------------------------------\n",
      "BAD                   42.52          \n",
      "IGF1                  48.14          \n",
      "FAS                   57.33          \n",
      "MAPK9                 46.29          \n",
      "CASP8                 49.76          \n",
      "TNFRSF1A              51.05          \n",
      "RHOA                  53.10          \n",
      "CDC42                 52.00          \n",
      "PRKACA                42.71          \n",
      "ACTB                  60.24          \n",
      "ARAF                  44.43          \n",
      "TGFB2                 49.57          \n",
      "MAPK1                 51.57          \n",
      "NFKBIA                58.95          \n",
      "TGFB1                 55.19          \n",
      "MAPK8                 46.33          \n",
      "PPP3CB                60.10          \n",
      "NFKB1                 64.90          \n",
      "MAPK10                47.43          \n",
      "IFNG                  60.95          \n",
      "TGFB3                 58.29          \n",
      "PPP3CC                53.38          \n",
      "ITPR2                 48.00          \n",
      "CDKN1A                48.90          \n",
      "IL1B                  68.24          \n",
      "MAP2K2                44.29          \n",
      "GNAI1                 51.00          \n",
      "RAF1                  53.05          \n",
      "CASP9                 54.86          \n",
      "KRAS                  50.33          \n",
      "CDK4                  51.48          \n",
      "IL6                   42.90          \n",
      "MYC                   50.81          \n",
      "PLCB2                 57.86          \n",
      "EGF                   45.76          \n",
      "IGF1R                 54.57          \n",
      "PRKACB                40.38          \n",
      "CREB5                 58.62          \n",
      "CAMK2G                44.81          \n",
      "ITPR1                 50.24          \n",
      "CACNA1C               49.43          \n",
      "PRKCA                 47.76          \n",
      "GNAQ                  50.38          \n",
      "CACNA1D               43.90          \n",
      "CASP3                 44.62          \n",
      "PRKACG                56.24          \n",
      "CTNNB1                48.62          \n",
      "STAT3                 47.14          \n",
      "MAP2K1                62.57          \n",
      "CXCL8                 55.95          \n",
      "FOS                   55.71          \n",
      "BCL2                  52.33          \n",
      "RELA                  55.19          \n",
      "ADCY5                 52.71          \n",
      "HRAS                  65.95          \n",
      "PLCB1                 66.95          \n",
      "ACTG1                 54.29          \n",
      "SRC                   41.95          \n",
      "PLCG2                 55.90          \n",
      "MTOR                  53.57          \n",
      "NRAS                  45.38          \n",
      "CHUK                  51.52          \n",
      "INS                   45.57          \n",
      "IKBKG                 50.76          \n",
      "\u001b[94m\n",
      "CONSULTAS BASE DE DATOS RNA-SEQ\u001b[0m\n",
      "\u001b[90m---------------------------------------------------------\u001b[0m\n",
      "CONSULTA 1. Agrupar los pacientes por las propiedades sexo y rango de edad\n",
      "CONSULTA 2. Numerar de genes que participan en la rutas que contenta la palabra 'platelet'\n",
      "CONSULTA 3. Listar muestras de las que no tenemos resultados de expresión\n",
      "CONSULTA 4. Listar media de expresión de los genes secuenciados\n",
      "CONSULTA 5. Numerar pathways de los genes que tienen media de expresión mayor de 25\n",
      "CONSULTA 6. Listar muestras de las que no tenemos alguna propiedad (o sexo o rango de edad)\n",
      "CONSULTA 7. Mostrar el número de muestras por run\n",
      "CONSULTA 8. Mostrar genes cuyo logfoldchange (M sexo H/M sexo M) sea mayor de 1 en valor absoluto\n",
      "Salir del programa (Pulse opcion 9)\n"
     ]
    },
    {
     "name": "stdin",
     "output_type": "stream",
     "text": [
      "\n",
      "Indique la opción que desea ejecutar (1, 2, 3, 4, 5, 6, 7, 8, 9):  5\n"
     ]
    },
    {
     "name": "stdout",
     "output_type": "stream",
     "text": [
      "\u001b[36mNúmero de pathways de los genes que tienen media de expresión mayor de 25 --> \u001b[0m 197\n",
      "\u001b[94m\n",
      "CONSULTAS BASE DE DATOS RNA-SEQ\u001b[0m\n",
      "\u001b[90m---------------------------------------------------------\u001b[0m\n",
      "CONSULTA 1. Agrupar los pacientes por las propiedades sexo y rango de edad\n",
      "CONSULTA 2. Numerar de genes que participan en la rutas que contenta la palabra 'platelet'\n",
      "CONSULTA 3. Listar muestras de las que no tenemos resultados de expresión\n",
      "CONSULTA 4. Listar media de expresión de los genes secuenciados\n",
      "CONSULTA 5. Numerar pathways de los genes que tienen media de expresión mayor de 25\n",
      "CONSULTA 6. Listar muestras de las que no tenemos alguna propiedad (o sexo o rango de edad)\n",
      "CONSULTA 7. Mostrar el número de muestras por run\n",
      "CONSULTA 8. Mostrar genes cuyo logfoldchange (M sexo H/M sexo M) sea mayor de 1 en valor absoluto\n",
      "Salir del programa (Pulse opcion 9)\n"
     ]
    },
    {
     "name": "stdin",
     "output_type": "stream",
     "text": [
      "\n",
      "Indique la opción que desea ejecutar (1, 2, 3, 4, 5, 6, 7, 8, 9):  6\n"
     ]
    },
    {
     "name": "stdout",
     "output_type": "stream",
     "text": [
      "\u001b[93mMuestras de las que no tenemos alguna propiedad (o sexo o rango de edad): \u001b[0m ['S20', 'S21', 'S6']\n",
      "\u001b[94m\n",
      "CONSULTAS BASE DE DATOS RNA-SEQ\u001b[0m\n",
      "\u001b[90m---------------------------------------------------------\u001b[0m\n",
      "CONSULTA 1. Agrupar los pacientes por las propiedades sexo y rango de edad\n",
      "CONSULTA 2. Numerar de genes que participan en la rutas que contenta la palabra 'platelet'\n",
      "CONSULTA 3. Listar muestras de las que no tenemos resultados de expresión\n",
      "CONSULTA 4. Listar media de expresión de los genes secuenciados\n",
      "CONSULTA 5. Numerar pathways de los genes que tienen media de expresión mayor de 25\n",
      "CONSULTA 6. Listar muestras de las que no tenemos alguna propiedad (o sexo o rango de edad)\n",
      "CONSULTA 7. Mostrar el número de muestras por run\n",
      "CONSULTA 8. Mostrar genes cuyo logfoldchange (M sexo H/M sexo M) sea mayor de 1 en valor absoluto\n",
      "Salir del programa (Pulse opcion 9)\n"
     ]
    },
    {
     "name": "stdin",
     "output_type": "stream",
     "text": [
      "\n",
      "Indique la opción que desea ejecutar (1, 2, 3, 4, 5, 6, 7, 8, 9):  7\n"
     ]
    },
    {
     "name": "stdout",
     "output_type": "stream",
     "text": [
      "\u001b[92mResumen run y número de muestras:\u001b[0m\n",
      "Run                   N Muestras     \n",
      "----------------------------------------\n",
      "Run1                  7.00           \n",
      "Run2                  7.00           \n",
      "Run3                  7.00           \n",
      "\u001b[94m\n",
      "CONSULTAS BASE DE DATOS RNA-SEQ\u001b[0m\n",
      "\u001b[90m---------------------------------------------------------\u001b[0m\n",
      "CONSULTA 1. Agrupar los pacientes por las propiedades sexo y rango de edad\n",
      "CONSULTA 2. Numerar de genes que participan en la rutas que contenta la palabra 'platelet'\n",
      "CONSULTA 3. Listar muestras de las que no tenemos resultados de expresión\n",
      "CONSULTA 4. Listar media de expresión de los genes secuenciados\n",
      "CONSULTA 5. Numerar pathways de los genes que tienen media de expresión mayor de 25\n",
      "CONSULTA 6. Listar muestras de las que no tenemos alguna propiedad (o sexo o rango de edad)\n",
      "CONSULTA 7. Mostrar el número de muestras por run\n",
      "CONSULTA 8. Mostrar genes cuyo logfoldchange (M sexo H/M sexo M) sea mayor de 1 en valor absoluto\n",
      "Salir del programa (Pulse opcion 9)\n"
     ]
    },
    {
     "name": "stdin",
     "output_type": "stream",
     "text": [
      "\n",
      "Indique la opción que desea ejecutar (1, 2, 3, 4, 5, 6, 7, 8, 9):  8\n"
     ]
    },
    {
     "name": "stdout",
     "output_type": "stream",
     "text": [
      "No hay resultados para la consulta.\n",
      "\u001b[94m\n",
      "CONSULTAS BASE DE DATOS RNA-SEQ\u001b[0m\n",
      "\u001b[90m---------------------------------------------------------\u001b[0m\n",
      "CONSULTA 1. Agrupar los pacientes por las propiedades sexo y rango de edad\n",
      "CONSULTA 2. Numerar de genes que participan en la rutas que contenta la palabra 'platelet'\n",
      "CONSULTA 3. Listar muestras de las que no tenemos resultados de expresión\n",
      "CONSULTA 4. Listar media de expresión de los genes secuenciados\n",
      "CONSULTA 5. Numerar pathways de los genes que tienen media de expresión mayor de 25\n",
      "CONSULTA 6. Listar muestras de las que no tenemos alguna propiedad (o sexo o rango de edad)\n",
      "CONSULTA 7. Mostrar el número de muestras por run\n",
      "CONSULTA 8. Mostrar genes cuyo logfoldchange (M sexo H/M sexo M) sea mayor de 1 en valor absoluto\n",
      "Salir del programa (Pulse opcion 9)\n"
     ]
    },
    {
     "name": "stdin",
     "output_type": "stream",
     "text": [
      "\n",
      "Indique la opción que desea ejecutar (1, 2, 3, 4, 5, 6, 7, 8, 9):  djksbsñ\n"
     ]
    },
    {
     "name": "stdout",
     "output_type": "stream",
     "text": [
      "\u001b[91m* ATENCIÓN *\u001b[0m La opción indicada no está disponible\n",
      "\u001b[94m\n",
      "CONSULTAS BASE DE DATOS RNA-SEQ\u001b[0m\n",
      "\u001b[90m---------------------------------------------------------\u001b[0m\n",
      "CONSULTA 1. Agrupar los pacientes por las propiedades sexo y rango de edad\n",
      "CONSULTA 2. Numerar de genes que participan en la rutas que contenta la palabra 'platelet'\n",
      "CONSULTA 3. Listar muestras de las que no tenemos resultados de expresión\n",
      "CONSULTA 4. Listar media de expresión de los genes secuenciados\n",
      "CONSULTA 5. Numerar pathways de los genes que tienen media de expresión mayor de 25\n",
      "CONSULTA 6. Listar muestras de las que no tenemos alguna propiedad (o sexo o rango de edad)\n",
      "CONSULTA 7. Mostrar el número de muestras por run\n",
      "CONSULTA 8. Mostrar genes cuyo logfoldchange (M sexo H/M sexo M) sea mayor de 1 en valor absoluto\n",
      "Salir del programa (Pulse opcion 9)\n"
     ]
    },
    {
     "name": "stdin",
     "output_type": "stream",
     "text": [
      "\n",
      "Indique la opción que desea ejecutar (1, 2, 3, 4, 5, 6, 7, 8, 9):  4566\n"
     ]
    },
    {
     "name": "stdout",
     "output_type": "stream",
     "text": [
      "\u001b[91m* ATENCIÓN *\u001b[0m La opción indicada no está disponible\n",
      "\u001b[94m\n",
      "CONSULTAS BASE DE DATOS RNA-SEQ\u001b[0m\n",
      "\u001b[90m---------------------------------------------------------\u001b[0m\n",
      "CONSULTA 1. Agrupar los pacientes por las propiedades sexo y rango de edad\n",
      "CONSULTA 2. Numerar de genes que participan en la rutas que contenta la palabra 'platelet'\n",
      "CONSULTA 3. Listar muestras de las que no tenemos resultados de expresión\n",
      "CONSULTA 4. Listar media de expresión de los genes secuenciados\n",
      "CONSULTA 5. Numerar pathways de los genes que tienen media de expresión mayor de 25\n",
      "CONSULTA 6. Listar muestras de las que no tenemos alguna propiedad (o sexo o rango de edad)\n",
      "CONSULTA 7. Mostrar el número de muestras por run\n",
      "CONSULTA 8. Mostrar genes cuyo logfoldchange (M sexo H/M sexo M) sea mayor de 1 en valor absoluto\n",
      "Salir del programa (Pulse opcion 9)\n"
     ]
    },
    {
     "name": "stdin",
     "output_type": "stream",
     "text": [
      "\n",
      "Indique la opción que desea ejecutar (1, 2, 3, 4, 5, 6, 7, 8, 9):  9\n"
     ]
    },
    {
     "name": "stdout",
     "output_type": "stream",
     "text": [
      "\u001b[36m\n",
      "El programa ha finalizado correctamente\n",
      "\u001b[0m\n"
     ]
    }
   ],
   "source": [
    "#FUNCION PRINCIPAL DE MENÚ DE OPCIONES QUE TIENE EL USUARIO PARA QUE ELIJA QUE QUIERE VER \n",
    "def main():\n",
    "    #INCLUIMOS CONEXION DENTRO DE LA FUNCIÓN PRINCIPAL \n",
    "    conexion = create_connection(\"dayhoff.inf.um.es\", \"alubio08\", \"alubio08PW-\", \"alubio08\")\n",
    "    #MENÚ PRINCIPAL DEL PROGRAMA CON 9 OPCIONES PARA EL USUARIO DONDE CADA OPCIÓN\n",
    "    #SERÁ ARGUMENTO DE UNA FUNCIÓN ANTERIOREMENTE DEFINIDA Y LA ÚLTIMA CORTA EL BUCLE PARA SALIR\n",
    "    #CONTROLAMOS POSIBLES ERRORES MOSTRANDO UN AVISO CUANDO NO SE SELECCIONA NINGUNA DE LAS OPCIONES\n",
    "    while True:\n",
    "        print(f\"{Colors.BLUE}\\nCONSULTAS BASE DE DATOS RNA-SEQ{Colors.ENDC}\")\n",
    "        print(f\"{Colors.BLACK}---------------------------------------------------------{Colors.ENDC}\")\n",
    "        print(\"CONSULTA 1. Agrupar los pacientes por las propiedades sexo y rango de edad\")\n",
    "        print(\"CONSULTA 2. Numerar de genes que participan en la rutas que contenta la palabra 'platelet'\")\n",
    "        print(\"CONSULTA 3. Listar muestras de las que no tenemos resultados de expresión\")\n",
    "        print(\"CONSULTA 4. Listar media de expresión de los genes secuenciados\")\n",
    "        print(\"CONSULTA 5. Numerar pathways de los genes que tienen media de expresión mayor de 25\")\n",
    "        print(\"CONSULTA 6. Listar muestras de las que no tenemos alguna propiedad (o sexo o rango de edad)\")\n",
    "        print(\"CONSULTA 7. Mostrar el número de muestras por run\")\n",
    "        print(\"CONSULTA 8. Mostrar genes cuyo logfoldchange (M sexo H/M sexo M) sea mayor de 1 en valor absoluto\")\n",
    "        print(\"Salir del programa (Pulse opcion 9)\")\n",
    "        opcion = input(\"\\nIndique la opción que desea ejecutar (1, 2, 3, 4, 5, 6, 7, 8, 9): \")\n",
    "        if opcion == \"\":\n",
    "            warning(\"La opción indicada no está disponible. Pruebe de nuevo:\\n\")\n",
    "        elif opcion == 0:\n",
    "            warning(\"La opción indicada no está disponible. Pruebe de nuevo:\\n\")\n",
    "        elif \".\" in opcion:\n",
    "            warning(\"La opción indicada no está disponible. Pruebe de nuevo:\\n\")\n",
    "        elif opcion == \"1\":\n",
    "            buscar_por_muestra_sexo_edad()\n",
    "        elif opcion == \"2\":\n",
    "            buscar_por_genes_rutas_platelet()    \n",
    "        elif opcion == \"3\":\n",
    "            buscar_muestras_noexpresion()                                         \n",
    "        elif opcion == \"4\":\n",
    "            buscar_symbol_media_expresion()\n",
    "        elif opcion == \"5\":\n",
    "            buscar_pathways_genes_media_expresion()\n",
    "        elif opcion == \"6\":\n",
    "            buscar_muestras_no_propiedad()\n",
    "        elif opcion == \"7\":\n",
    "            buscar_muestras_por_run() \n",
    "        elif opcion == \"8\":\n",
    "            buscar_log2foldchange()\n",
    "        #SI SE MARCA LA OPCIÓN 9 ROMPEMOS BUCLE DE MENÚ PRINCIPAL Y SALIMOS DEL PROGRAMA\n",
    "        #Y LO MOSTRAMOS CON EL ÚLTIMO PRINT\n",
    "        elif opcion == \"9\":\n",
    "            break\n",
    "        #EN CASO DE QUE EL USUARIO COMETA ALGÚN TIPO DE ERROR SE MOSTRARÁ UN AVISO\n",
    "        #Y SE LE DARÁ LA OPORTUNIDAD DE VOLVER A INTENTARLO\n",
    "        else:\n",
    "            warning(\"La opción indicada no está disponible\")\n",
    "                \n",
    "    print(f\"{Colors.CYAN}\\nEl programa ha finalizado correctamente\\n{Colors.ENDC}\")\n",
    "#PRIMERA FUNCIÓN EN INICIALIZARSE SERÁ LA FUNCIÓN MAIN    \n",
    "if __name__ == \"__main__\":\n",
    "    main()"
   ]
  }
 ],
 "metadata": {
  "kernelspec": {
   "display_name": "Python3.8",
   "language": "python",
   "name": "python3.8"
  },
  "language_info": {
   "codemirror_mode": {
    "name": "ipython",
    "version": 3
   },
   "file_extension": ".py",
   "mimetype": "text/x-python",
   "name": "python",
   "nbconvert_exporter": "python",
   "pygments_lexer": "ipython3",
   "version": "3.8.5"
  }
 },
 "nbformat": 4,
 "nbformat_minor": 5
}
